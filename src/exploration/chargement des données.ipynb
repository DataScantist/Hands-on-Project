{
 "cells": [
  {
   "cell_type": "markdown",
   "metadata": {},
   "source": [
    "# Objectif de charger les données "
   ]
  },
  {
   "cell_type": "code",
   "execution_count": 20,
   "metadata": {
    "collapsed": true
   },
   "outputs": [],
   "source": [
    "import pandas as pd\n",
    "import os\n",
    "import json"
   ]
  },
  {
   "cell_type": "code",
   "execution_count": 27,
   "metadata": {
    "scrolled": true
   },
   "outputs": [],
   "source": [
    "#lire le fichier json des paramètres \n",
    "with open('../parameters.json') as json_data:\n",
    "    params = json.load(json_data)\n",
    "    \n",
    "    DATA_DIR = params['DIRECTORIES']['DATA_DIR']\n",
    "TMP_DIR = params['DIRECTORIES']['TMP_DIR']"
   ]
  },
  {
   "cell_type": "code",
   "execution_count": 2,
   "metadata": {
    "collapsed": true
   },
   "outputs": [],
   "source": [
    "#ce code si on avait pas utilsier le fichier param json\n",
    "\n",
    "#constante, on met souvent en majusucles. \n",
    "#utiliser nom anglais et simple pour sauvegarder les path qu'on va utiliser\n",
    "#DATA_DIR = 'C:/Users/t15021596/Hands-on-Project---CT/data'\n",
    "#ou utiliser l emode relatif, ici poru au autre dossier tmp\n",
    "#TMP_DIR = '../../tmp'"
   ]
  },
  {
   "cell_type": "code",
   "execution_count": 3,
   "metadata": {
    "collapsed": true
   },
   "outputs": [],
   "source": [
    "gas_files =['Prix2014.zip','Prix2015.zip','Prix2016.zip',]\n",
    "stations_file = 'stations2016.zip'\n",
    "services_file = 'services2016.zip'"
   ]
  },
  {
   "cell_type": "code",
   "execution_count": 16,
   "metadata": {},
   "outputs": [],
   "source": [
    "#une façon pas très propre d'importer le fichier : \n",
    "#df2014 =pd.read_csv(DATA_DIR +'/' + gas_files[0])\n",
    "\n",
    "#autre méthode qui marchera quelque soit le système d'exploitation. \n",
    "#le dtype : be carful with the postal code (variable 1), better set it as character otherwise the leading 0 will disappear\n",
    "df2014 =pd.read_csv(os.path.join(DATA_DIR,gas_files[0]), sep=';',header=None, dtype={1:str})"
   ]
  },
  {
   "cell_type": "code",
   "execution_count": 17,
   "metadata": {},
   "outputs": [
    {
     "data": {
      "text/plain": [
       "Int64Index([0, 1, 2, 3, 4, 5, 6, 7, 8], dtype='int64')"
      ]
     },
     "execution_count": 17,
     "metadata": {},
     "output_type": "execute_result"
    }
   ],
   "source": [
    "#on peut voir avec ça que séparateur c'est ; et la on revient au dessus et on rajoute l'argument sep\n",
    "df2014.columns"
   ]
  },
  {
   "cell_type": "code",
   "execution_count": 18,
   "metadata": {},
   "outputs": [
    {
     "data": {
      "text/html": [
       "<div>\n",
       "<style>\n",
       "    .dataframe thead tr:only-child th {\n",
       "        text-align: right;\n",
       "    }\n",
       "\n",
       "    .dataframe thead th {\n",
       "        text-align: left;\n",
       "    }\n",
       "\n",
       "    .dataframe tbody tr th {\n",
       "        vertical-align: top;\n",
       "    }\n",
       "</style>\n",
       "<table border=\"1\" class=\"dataframe\">\n",
       "  <thead>\n",
       "    <tr style=\"text-align: right;\">\n",
       "      <th></th>\n",
       "      <th>0</th>\n",
       "      <th>1</th>\n",
       "      <th>2</th>\n",
       "      <th>3</th>\n",
       "      <th>4</th>\n",
       "      <th>5</th>\n",
       "      <th>6</th>\n",
       "      <th>7</th>\n",
       "      <th>8</th>\n",
       "    </tr>\n",
       "  </thead>\n",
       "  <tbody>\n",
       "    <tr>\n",
       "      <th>0</th>\n",
       "      <td>1000001</td>\n",
       "      <td>01000</td>\n",
       "      <td>R</td>\n",
       "      <td>4620114.0</td>\n",
       "      <td>519791.0</td>\n",
       "      <td>2014-01-02 11:08:03</td>\n",
       "      <td>1.0</td>\n",
       "      <td>Gazole</td>\n",
       "      <td>1304.0</td>\n",
       "    </tr>\n",
       "    <tr>\n",
       "      <th>1</th>\n",
       "      <td>1000001</td>\n",
       "      <td>01000</td>\n",
       "      <td>R</td>\n",
       "      <td>4620114.0</td>\n",
       "      <td>519791.0</td>\n",
       "      <td>2014-01-04 09:54:03</td>\n",
       "      <td>1.0</td>\n",
       "      <td>Gazole</td>\n",
       "      <td>1304.0</td>\n",
       "    </tr>\n",
       "    <tr>\n",
       "      <th>2</th>\n",
       "      <td>1000001</td>\n",
       "      <td>01000</td>\n",
       "      <td>R</td>\n",
       "      <td>4620114.0</td>\n",
       "      <td>519791.0</td>\n",
       "      <td>2014-01-05 10:27:09</td>\n",
       "      <td>1.0</td>\n",
       "      <td>Gazole</td>\n",
       "      <td>1304.0</td>\n",
       "    </tr>\n",
       "    <tr>\n",
       "      <th>3</th>\n",
       "      <td>1000001</td>\n",
       "      <td>01000</td>\n",
       "      <td>R</td>\n",
       "      <td>4620114.0</td>\n",
       "      <td>519791.0</td>\n",
       "      <td>2014-01-06 09:07:51</td>\n",
       "      <td>1.0</td>\n",
       "      <td>Gazole</td>\n",
       "      <td>1304.0</td>\n",
       "    </tr>\n",
       "    <tr>\n",
       "      <th>4</th>\n",
       "      <td>1000001</td>\n",
       "      <td>01000</td>\n",
       "      <td>R</td>\n",
       "      <td>4620114.0</td>\n",
       "      <td>519791.0</td>\n",
       "      <td>2014-01-07 09:23:56</td>\n",
       "      <td>1.0</td>\n",
       "      <td>Gazole</td>\n",
       "      <td>1304.0</td>\n",
       "    </tr>\n",
       "  </tbody>\n",
       "</table>\n",
       "</div>"
      ],
      "text/plain": [
       "         0      1  2          3         4                    5    6       7  \\\n",
       "0  1000001  01000  R  4620114.0  519791.0  2014-01-02 11:08:03  1.0  Gazole   \n",
       "1  1000001  01000  R  4620114.0  519791.0  2014-01-04 09:54:03  1.0  Gazole   \n",
       "2  1000001  01000  R  4620114.0  519791.0  2014-01-05 10:27:09  1.0  Gazole   \n",
       "3  1000001  01000  R  4620114.0  519791.0  2014-01-06 09:07:51  1.0  Gazole   \n",
       "4  1000001  01000  R  4620114.0  519791.0  2014-01-07 09:23:56  1.0  Gazole   \n",
       "\n",
       "        8  \n",
       "0  1304.0  \n",
       "1  1304.0  \n",
       "2  1304.0  \n",
       "3  1304.0  \n",
       "4  1304.0  "
      ]
     },
     "execution_count": 18,
     "metadata": {},
     "output_type": "execute_result"
    }
   ],
   "source": [
    "df2014.head()"
   ]
  },
  {
   "cell_type": "code",
   "execution_count": 13,
   "metadata": {},
   "outputs": [
    {
     "data": {
      "text/plain": [
       "0      int64\n",
       "1      int64\n",
       "2     object\n",
       "3    float64\n",
       "4    float64\n",
       "5     object\n",
       "6    float64\n",
       "7     object\n",
       "8    float64\n",
       "dtype: object"
      ]
     },
     "execution_count": 13,
     "metadata": {},
     "output_type": "execute_result"
    }
   ],
   "source": [
    "df2014.dtypes"
   ]
  },
  {
   "cell_type": "code",
   "execution_count": 14,
   "metadata": {
    "collapsed": true
   },
   "outputs": [],
   "source": [
    "#renommer les colonnes\n",
    "df2014.columns = ['id_station','code_postal','type_station','latitude',\n",
    "                  'longitude','date_releve','type_carburant',\n",
    "                  'libelle_carburant','prix']"
   ]
  },
  {
   "cell_type": "code",
   "execution_count": null,
   "metadata": {},
   "outputs": [],
   "source": [
    "\n"
   ]
  },
  {
   "cell_type": "code",
   "execution_count": null,
   "metadata": {
    "collapsed": true
   },
   "outputs": [],
   "source": []
  },
  {
   "cell_type": "code",
   "execution_count": null,
   "metadata": {
    "collapsed": true
   },
   "outputs": [],
   "source": []
  },
  {
   "cell_type": "code",
   "execution_count": null,
   "metadata": {
    "collapsed": true
   },
   "outputs": [],
   "source": []
  },
  {
   "cell_type": "code",
   "execution_count": null,
   "metadata": {
    "collapsed": true
   },
   "outputs": [],
   "source": []
  },
  {
   "cell_type": "code",
   "execution_count": null,
   "metadata": {
    "collapsed": true
   },
   "outputs": [],
   "source": []
  },
  {
   "cell_type": "code",
   "execution_count": null,
   "metadata": {
    "collapsed": true
   },
   "outputs": [],
   "source": []
  }
 ],
 "metadata": {
  "kernelspec": {
   "display_name": "Python 3",
   "language": "python",
   "name": "python3"
  },
  "language_info": {
   "codemirror_mode": {
    "name": "ipython",
    "version": 3
   },
   "file_extension": ".py",
   "mimetype": "text/x-python",
   "name": "python",
   "nbconvert_exporter": "python",
   "pygments_lexer": "ipython3",
   "version": "3.6.1"
  }
 },
 "nbformat": 4,
 "nbformat_minor": 2
}

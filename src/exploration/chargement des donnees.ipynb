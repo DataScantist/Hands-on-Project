{
 "cells": [
  {
   "cell_type": "markdown",
   "metadata": {},
   "source": [
    "# Objectif de charger les données "
   ]
  },
  {
   "cell_type": "code",
   "execution_count": null,
   "metadata": {
    "collapsed": true
   },
   "outputs": [],
   "source": [
    "import pandas as pd\n",
    "import os\n",
    "import json"
   ]
  },
  {
   "cell_type": "code",
   "execution_count": null,
   "metadata": {
    "scrolled": true
   },
   "outputs": [],
   "source": [
    "#lire le fichier json des paramètres \n",
    "with open('../parameters.json') as json_data:\n",
    "    params = json.load(json_data)\n",
    "    \n",
    "    DATA_DIR = params['DIRECTORIES']['DATA_DIR']\n",
    "TMP_DIR = params['DIRECTORIES']['TMP_DIR']"
   ]
  },
  {
   "cell_type": "code",
   "execution_count": null,
   "metadata": {
    "collapsed": true
   },
   "outputs": [],
   "source": [
    "#ce code si on avait pas utilsier le fichier param json\n",
    "\n",
    "#constante, on met souvent en majusucles. \n",
    "#utiliser nom anglais et simple pour sauvegarder les path qu'on va utiliser\n",
    "#DATA_DIR = 'C:/Users/t15021596/Hands-on-Project---CT/data'\n",
    "#ou utiliser l emode relatif, ici poru au autre dossier tmp\n",
    "#TMP_DIR = '../../tmp'"
   ]
  },
  {
   "cell_type": "code",
   "execution_count": null,
   "metadata": {
    "collapsed": true
   },
   "outputs": [],
   "source": [
    "gas_files =['Prix2014.zip','Prix2015.zip','Prix2016.zip',]\n",
    "stations_file = 'stations2016.zip'\n",
    "services_file = 'services2016.zip'"
   ]
  },
  {
   "cell_type": "code",
   "execution_count": null,
   "metadata": {},
   "outputs": [],
   "source": [
    "#une façon pas très propre d'importer le fichier : \n",
    "#df2014 =pd.read_csv(DATA_DIR +'/' + gas_files[0])\n",
    "\n",
    "#autre méthode qui marchera quelque soit le système d'exploitation. \n",
    "#le dtype : be carful with the postal code (variable 1), better set it as character otherwise the leading 0 will disappear\n",
    "df2014 =pd.read_csv(os.path.join(DATA_DIR,gas_files[0]), sep=';',header=None, dtype={1:str})"
   ]
  },
  {
   "cell_type": "code",
   "execution_count": null,
   "metadata": {},
   "outputs": [],
   "source": [
    "#on peut voir avec ça que séparateur c'est ; et la on revient au dessus et on rajoute l'argument sep\n",
    "df2014.columns"
   ]
  },
  {
   "cell_type": "code",
   "execution_count": null,
   "metadata": {},
   "outputs": [],
   "source": [
    "df2014.head()"
   ]
  },
  {
   "cell_type": "code",
   "execution_count": null,
   "metadata": {},
   "outputs": [],
   "source": [
    "df2014.dtypes"
   ]
  },
  {
   "cell_type": "code",
   "execution_count": null,
   "metadata": {
    "collapsed": true
   },
   "outputs": [],
   "source": [
    "#renommer les colonnes\n",
    "df2014.columns = ['id_station','code_postal','type_station','latitude',\n",
    "                  'longitude','date_releve','type_carburant',\n",
    "                  'libelle_carburant','prix']"
   ]
  },
  {
   "cell_type": "code",
   "execution_count": null,
   "metadata": {},
   "outputs": [],
   "source": [
    "\n"
   ]
  },
  {
   "cell_type": "code",
   "execution_count": null,
   "metadata": {
    "collapsed": true
   },
   "outputs": [],
   "source": []
  },
  {
   "cell_type": "code",
   "execution_count": null,
   "metadata": {
    "collapsed": true
   },
   "outputs": [],
   "source": []
  },
  {
   "cell_type": "code",
   "execution_count": null,
   "metadata": {
    "collapsed": true
   },
   "outputs": [],
   "source": []
  },
  {
   "cell_type": "code",
   "execution_count": null,
   "metadata": {
    "collapsed": true
   },
   "outputs": [],
   "source": []
  },
  {
   "cell_type": "code",
   "execution_count": null,
   "metadata": {
    "collapsed": true
   },
   "outputs": [],
   "source": []
  },
  {
   "cell_type": "code",
   "execution_count": null,
   "metadata": {
    "collapsed": true
   },
   "outputs": [],
   "source": []
  }
 ],
 "metadata": {
  "kernelspec": {
   "display_name": "Python 3",
   "language": "python",
   "name": "python3"
  },
  "language_info": {
   "codemirror_mode": {
    "name": "ipython",
    "version": 3
   },
   "file_extension": ".py",
   "mimetype": "text/x-python",
   "name": "python",
   "nbconvert_exporter": "python",
   "pygments_lexer": "ipython3",
   "version": "3.6.1"
  }
 },
 "nbformat": 4,
 "nbformat_minor": 2
}

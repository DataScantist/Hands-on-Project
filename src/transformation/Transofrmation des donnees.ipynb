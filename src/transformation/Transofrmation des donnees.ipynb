{
 "cells": [
  {
   "cell_type": "markdown",
   "metadata": {},
   "source": [
    "# Transformation des données"
   ]
  },
  {
   "cell_type": "markdown",
   "metadata": {},
   "source": [
    "### rechargement des packages et autres trucs dont pickles"
   ]
  },
  {
   "cell_type": "code",
   "execution_count": 72,
   "metadata": {},
   "outputs": [],
   "source": [
    "import pandas as pd\n",
    "import os\n",
    "import json\n",
    "import glob\n",
    "import sqlite3, sqlalchemy\n",
    "import numpy as np\n",
    "import matplotlib.pyplot as plt\n",
    "import seaborn as sns\n",
    "from sklearn.feature_extraction.text import CountVectorizer\n",
    "from sklearn.linear_model import LinearRegression\n",
    "from sklearn.ensemble import RandomForestRegressor\n",
    "%matplotlib inline"
   ]
  },
  {
   "cell_type": "code",
   "execution_count": 5,
   "metadata": {
    "collapsed": true
   },
   "outputs": [],
   "source": [
    "#lire le fichier json des paramètres \n",
    "with open('../parameters.json') as json_data:\n",
    "    params = json.load(json_data)\n",
    "    \n",
    "DATA_DIR = params['DIRECTORIES']['DATA_DIR']\n",
    "TMP_DIR = params['DIRECTORIES']['TMP_DIR']\n",
    "PRICE_FILE = params['FILES']['PRICE_FILE']\n",
    "STATION_FILE = params['FILES']['STATION_FILE']\n",
    "SERVICE_FILE = params['FILES']['SERVICE_FILE']\n",
    "#ici on en profite pour faire tt de suite le path os join\n",
    "GAS_DB = os.path.join(DATA_DIR, params['DATABASES']['GAS_DB'])"
   ]
  },
  {
   "cell_type": "code",
   "execution_count": 6,
   "metadata": {
    "collapsed": true
   },
   "outputs": [],
   "source": [
    "dfall = pd.read_pickle(os.path.join(DATA_DIR,PRICE_FILE))\n",
    "dfservices = pd.read_pickle(os.path.join(DATA_DIR,SERVICE_FILE))\n",
    "dfstations = pd.read_pickle(os.path.join(DATA_DIR,STATION_FILE))"
   ]
  },
  {
   "cell_type": "code",
   "execution_count": 8,
   "metadata": {
    "collapsed": true
   },
   "outputs": [],
   "source": [
    "#conversion de la date\n",
    "dfall['date_releve'] = pd.to_datetime(dfall.date_releve)"
   ]
  },
  {
   "cell_type": "markdown",
   "metadata": {},
   "source": [
    "### Calcul de l'indice de prix hebdo"
   ]
  },
  {
   "cell_type": "code",
   "execution_count": 13,
   "metadata": {},
   "outputs": [
    {
     "data": {
      "text/html": [
       "<div>\n",
       "<style>\n",
       "    .dataframe thead tr:only-child th {\n",
       "        text-align: right;\n",
       "    }\n",
       "\n",
       "    .dataframe thead th {\n",
       "        text-align: left;\n",
       "    }\n",
       "\n",
       "    .dataframe tbody tr th {\n",
       "        vertical-align: top;\n",
       "    }\n",
       "</style>\n",
       "<table border=\"1\" class=\"dataframe\">\n",
       "  <thead>\n",
       "    <tr style=\"text-align: right;\">\n",
       "      <th></th>\n",
       "      <th></th>\n",
       "      <th></th>\n",
       "      <th>prix</th>\n",
       "    </tr>\n",
       "    <tr>\n",
       "      <th>id_station</th>\n",
       "      <th>libelle_carburant</th>\n",
       "      <th>date_releve</th>\n",
       "      <th></th>\n",
       "    </tr>\n",
       "  </thead>\n",
       "  <tbody>\n",
       "    <tr>\n",
       "      <th rowspan=\"5\" valign=\"top\">1000001</th>\n",
       "      <th>E10</th>\n",
       "      <th>2015-02-08</th>\n",
       "      <td>1309.0</td>\n",
       "    </tr>\n",
       "    <tr>\n",
       "      <th rowspan=\"4\" valign=\"top\">Gazole</th>\n",
       "      <th>2014-01-05</th>\n",
       "      <td>1304.0</td>\n",
       "    </tr>\n",
       "    <tr>\n",
       "      <th>2014-01-12</th>\n",
       "      <td>1304.0</td>\n",
       "    </tr>\n",
       "    <tr>\n",
       "      <th>2014-01-19</th>\n",
       "      <td>1304.0</td>\n",
       "    </tr>\n",
       "    <tr>\n",
       "      <th>2014-01-26</th>\n",
       "      <td>1304.0</td>\n",
       "    </tr>\n",
       "  </tbody>\n",
       "</table>\n",
       "</div>"
      ],
      "text/plain": [
       "                                            prix\n",
       "id_station libelle_carburant date_releve        \n",
       "1000001    E10               2015-02-08   1309.0\n",
       "           Gazole            2014-01-05   1304.0\n",
       "                             2014-01-12   1304.0\n",
       "                             2014-01-19   1304.0\n",
       "                             2014-01-26   1304.0"
      ]
     },
     "execution_count": 13,
     "metadata": {},
     "output_type": "execute_result"
    }
   ],
   "source": [
    "#moyenne du prix par semaine par station\n",
    "(dfall\n",
    " .dropna(subset=['date_releve'])\n",
    " .groupby(['id_station','libelle_carburant', pd.Grouper(key='date_releve', freq='1W')])\n",
    " .agg({'prix':np.mean})\n",
    ").head()\n",
    "#on voit que l'index est ocmposé de plusieurs colonne, c'est une clé poru identifier de façon unique chacune des lignes"
   ]
  },
  {
   "cell_type": "code",
   "execution_count": 21,
   "metadata": {
    "collapsed": true
   },
   "outputs": [],
   "source": [
    "#moyenne du prix par semaine par station. On reset l'index vu qu'on va merge par colonne plutot que par index\n",
    "moyenne_hebdo_df = (dfall\n",
    " .dropna(subset=['date_releve'])\n",
    " .groupby(['libelle_carburant', pd.Grouper(key='date_releve', freq='1W-MON')])\n",
    " .agg({'prix':np.mean})\n",
    " .reset_index()                 \n",
    ")"
   ]
  },
  {
   "cell_type": "code",
   "execution_count": 23,
   "metadata": {},
   "outputs": [
    {
     "data": {
      "text/html": [
       "<div>\n",
       "<style>\n",
       "    .dataframe thead tr:only-child th {\n",
       "        text-align: right;\n",
       "    }\n",
       "\n",
       "    .dataframe thead th {\n",
       "        text-align: left;\n",
       "    }\n",
       "\n",
       "    .dataframe tbody tr th {\n",
       "        vertical-align: top;\n",
       "    }\n",
       "</style>\n",
       "<table border=\"1\" class=\"dataframe\">\n",
       "  <thead>\n",
       "    <tr style=\"text-align: right;\">\n",
       "      <th></th>\n",
       "      <th>libelle_carburant</th>\n",
       "      <th>date_releve</th>\n",
       "      <th>prix</th>\n",
       "    </tr>\n",
       "  </thead>\n",
       "  <tbody>\n",
       "    <tr>\n",
       "      <th>0</th>\n",
       "      <td>E10</td>\n",
       "      <td>2014-01-06</td>\n",
       "      <td>1490.073267</td>\n",
       "    </tr>\n",
       "    <tr>\n",
       "      <th>1</th>\n",
       "      <td>E10</td>\n",
       "      <td>2014-01-13</td>\n",
       "      <td>1486.280544</td>\n",
       "    </tr>\n",
       "    <tr>\n",
       "      <th>2</th>\n",
       "      <td>E10</td>\n",
       "      <td>2014-01-20</td>\n",
       "      <td>1476.317653</td>\n",
       "    </tr>\n",
       "    <tr>\n",
       "      <th>3</th>\n",
       "      <td>E10</td>\n",
       "      <td>2014-01-27</td>\n",
       "      <td>1477.604423</td>\n",
       "    </tr>\n",
       "    <tr>\n",
       "      <th>4</th>\n",
       "      <td>E10</td>\n",
       "      <td>2014-02-03</td>\n",
       "      <td>1479.143865</td>\n",
       "    </tr>\n",
       "  </tbody>\n",
       "</table>\n",
       "</div>"
      ],
      "text/plain": [
       "  libelle_carburant date_releve         prix\n",
       "0               E10  2014-01-06  1490.073267\n",
       "1               E10  2014-01-13  1486.280544\n",
       "2               E10  2014-01-20  1476.317653\n",
       "3               E10  2014-01-27  1477.604423\n",
       "4               E10  2014-02-03  1479.143865"
      ]
     },
     "execution_count": 23,
     "metadata": {},
     "output_type": "execute_result"
    }
   ],
   "source": [
    "moyenne_hebdo_df.head()"
   ]
  },
  {
   "cell_type": "code",
   "execution_count": 26,
   "metadata": {
    "collapsed": true
   },
   "outputs": [],
   "source": [
    "#moyenne du prix par semaine et par station merged avec prix par semaine aggrégé\n",
    "#assign pour calculer nouvelel variable dans le merge\n",
    "model_df = (dfall\n",
    " .dropna(subset=['date_releve'])\n",
    " .groupby(['id_station','libelle_carburant', pd.Grouper(key='date_releve', freq='1W-MON')])\n",
    " .agg({'prix':np.mean})\n",
    " .reset_index()\n",
    " .merge(moyenne_hebdo_df,how='inner',on=['libelle_carburant','date_releve'],suffixes=('','_moyen'))\n",
    " .assign(indice=lambda df: df.prix/df.prix_moyen)\n",
    ")"
   ]
  },
  {
   "cell_type": "code",
   "execution_count": 27,
   "metadata": {},
   "outputs": [
    {
     "data": {
      "text/plain": [
       "(3240069, 6)"
      ]
     },
     "execution_count": 27,
     "metadata": {},
     "output_type": "execute_result"
    }
   ],
   "source": [
    "model_df.shape"
   ]
  },
  {
   "cell_type": "code",
   "execution_count": 30,
   "metadata": {},
   "outputs": [
    {
     "data": {
      "text/html": [
       "<div>\n",
       "<style>\n",
       "    .dataframe thead tr:only-child th {\n",
       "        text-align: right;\n",
       "    }\n",
       "\n",
       "    .dataframe thead th {\n",
       "        text-align: left;\n",
       "    }\n",
       "\n",
       "    .dataframe tbody tr th {\n",
       "        vertical-align: top;\n",
       "    }\n",
       "</style>\n",
       "<table border=\"1\" class=\"dataframe\">\n",
       "  <thead>\n",
       "    <tr style=\"text-align: right;\">\n",
       "      <th></th>\n",
       "      <th>id_station</th>\n",
       "      <th>libelle_carburant</th>\n",
       "      <th>date_releve</th>\n",
       "      <th>prix</th>\n",
       "      <th>prix_moyen</th>\n",
       "      <th>indice</th>\n",
       "    </tr>\n",
       "  </thead>\n",
       "  <tbody>\n",
       "    <tr>\n",
       "      <th>0</th>\n",
       "      <td>1000001</td>\n",
       "      <td>E10</td>\n",
       "      <td>2015-02-09</td>\n",
       "      <td>1309.000000</td>\n",
       "      <td>1308.978319</td>\n",
       "      <td>1.000017</td>\n",
       "    </tr>\n",
       "    <tr>\n",
       "      <th>1</th>\n",
       "      <td>1000007</td>\n",
       "      <td>E10</td>\n",
       "      <td>2015-02-09</td>\n",
       "      <td>1269.800000</td>\n",
       "      <td>1308.978319</td>\n",
       "      <td>0.970070</td>\n",
       "    </tr>\n",
       "    <tr>\n",
       "      <th>2</th>\n",
       "      <td>1000008</td>\n",
       "      <td>E10</td>\n",
       "      <td>2015-02-09</td>\n",
       "      <td>1272.333333</td>\n",
       "      <td>1308.978319</td>\n",
       "      <td>0.972005</td>\n",
       "    </tr>\n",
       "    <tr>\n",
       "      <th>3</th>\n",
       "      <td>1000009</td>\n",
       "      <td>E10</td>\n",
       "      <td>2015-02-09</td>\n",
       "      <td>1267.500000</td>\n",
       "      <td>1308.978319</td>\n",
       "      <td>0.968312</td>\n",
       "    </tr>\n",
       "    <tr>\n",
       "      <th>4</th>\n",
       "      <td>1100001</td>\n",
       "      <td>E10</td>\n",
       "      <td>2015-02-09</td>\n",
       "      <td>1274.000000</td>\n",
       "      <td>1308.978319</td>\n",
       "      <td>0.973278</td>\n",
       "    </tr>\n",
       "  </tbody>\n",
       "</table>\n",
       "</div>"
      ],
      "text/plain": [
       "   id_station libelle_carburant date_releve         prix   prix_moyen  \\\n",
       "0     1000001               E10  2015-02-09  1309.000000  1308.978319   \n",
       "1     1000007               E10  2015-02-09  1269.800000  1308.978319   \n",
       "2     1000008               E10  2015-02-09  1272.333333  1308.978319   \n",
       "3     1000009               E10  2015-02-09  1267.500000  1308.978319   \n",
       "4     1100001               E10  2015-02-09  1274.000000  1308.978319   \n",
       "\n",
       "     indice  \n",
       "0  1.000017  \n",
       "1  0.970070  \n",
       "2  0.972005  \n",
       "3  0.968312  \n",
       "4  0.973278  "
      ]
     },
     "execution_count": 30,
     "metadata": {},
     "output_type": "execute_result"
    }
   ],
   "source": [
    "model_df.head()"
   ]
  },
  {
   "cell_type": "code",
   "execution_count": 32,
   "metadata": {},
   "outputs": [
    {
     "data": {
      "text/plain": [
       "count    3.240069e+06\n",
       "mean     1.003950e+00\n",
       "std      4.760333e-02\n",
       "min      1.433224e-03\n",
       "25%      9.740281e-01\n",
       "50%      9.902849e-01\n",
       "75%      1.030610e+00\n",
       "max      2.051147e+00\n",
       "Name: indice, dtype: float64"
      ]
     },
     "execution_count": 32,
     "metadata": {},
     "output_type": "execute_result"
    }
   ],
   "source": [
    "model_df.indice.describe()"
   ]
  },
  {
   "cell_type": "code",
   "execution_count": 29,
   "metadata": {},
   "outputs": [
    {
     "data": {
      "text/plain": [
       "<matplotlib.axes._subplots.AxesSubplot at 0x28100fd7dd8>"
      ]
     },
     "execution_count": 29,
     "metadata": {},
     "output_type": "execute_result"
    },
    {
     "data": {
      "image/png": "[encoded data removed]",
      "text/plain": [
       "<matplotlib.figure.Figure at 0x28109bfb0b8>"
      ]
     },
     "metadata": {},
     "output_type": "display_data"
    }
   ],
   "source": [
    "model_df.indice.hist(bins=25)"
   ]
  },
  {
   "cell_type": "markdown",
   "metadata": {},
   "source": [
    "### Construction du vecteur de services"
   ]
  },
  {
   "cell_type": "code",
   "execution_count": 36,
   "metadata": {
    "collapsed": true
   },
   "outputs": [],
   "source": [
    "#on veut pas spliter sur l'espace mais sur la virgule. \n",
    "_tokenize = lambda x: x.split(',')\n",
    "#par défaut le vectorizer va tout convertir en minuscules (lowercase=True)\n",
    "vectorize = CountVectorizer(tokenizer=_tokenize,lowercase=False)"
   ]
  },
  {
   "cell_type": "code",
   "execution_count": 48,
   "metadata": {
    "collapsed": true
   },
   "outputs": [],
   "source": [
    "#créer un dataframe à partir de notre transformation appliqués sur la variable services de dfservices\n",
    "    #on utilisera l'index de dfservices\n",
    "    #on recupere les noms de colonne\n",
    "    #valeur par défaut = 0, sinon on aurait NaN à la place. \n",
    "matrice_services_df = pd.SparseDataFrame(vectorize.fit_transform(dfservices.services.fillna('Rien')),\n",
    "                  dfservices.id_station,\n",
    "                  vectorize.get_feature_names(),\n",
    "                  default_fill_value=0\n",
    "                  ).reset_index()"
   ]
  },
  {
   "cell_type": "code",
   "execution_count": 49,
   "metadata": {},
   "outputs": [
    {
     "data": {
      "text/html": [
       "<div>\n",
       "<style>\n",
       "    .dataframe thead tr:only-child th {\n",
       "        text-align: right;\n",
       "    }\n",
       "\n",
       "    .dataframe thead th {\n",
       "        text-align: left;\n",
       "    }\n",
       "\n",
       "    .dataframe tbody tr th {\n",
       "        vertical-align: top;\n",
       "    }\n",
       "</style>\n",
       "<table border=\"1\" class=\"dataframe\">\n",
       "  <thead>\n",
       "    <tr style=\"text-align: right;\">\n",
       "      <th></th>\n",
       "      <th>id_station</th>\n",
       "      <th>Aire de camping-cars</th>\n",
       "      <th>Automate CB</th>\n",
       "      <th>Baie de service auto</th>\n",
       "      <th>Bar</th>\n",
       "      <th>Boutique alimentaire</th>\n",
       "      <th>Boutique non alimentaire</th>\n",
       "      <th>Carburant qualité supérieure</th>\n",
       "      <th>Douches</th>\n",
       "      <th>Espace bébé / change</th>\n",
       "      <th>...</th>\n",
       "      <th>Relais colis</th>\n",
       "      <th>Restauration sur place</th>\n",
       "      <th>Restauration à emporter</th>\n",
       "      <th>Rien</th>\n",
       "      <th>Station de gonflage</th>\n",
       "      <th>Station de lavage</th>\n",
       "      <th>Toilettes publiques</th>\n",
       "      <th>Vente de fioul domestique</th>\n",
       "      <th>Vente de gaz domestique</th>\n",
       "      <th>Vente de pétrole lampant</th>\n",
       "    </tr>\n",
       "  </thead>\n",
       "  <tbody>\n",
       "    <tr>\n",
       "      <th>0</th>\n",
       "      <td>1000001</td>\n",
       "      <td>0</td>\n",
       "      <td>1</td>\n",
       "      <td>0</td>\n",
       "      <td>0</td>\n",
       "      <td>0</td>\n",
       "      <td>0</td>\n",
       "      <td>0</td>\n",
       "      <td>0</td>\n",
       "      <td>0</td>\n",
       "      <td>...</td>\n",
       "      <td>0</td>\n",
       "      <td>0</td>\n",
       "      <td>0</td>\n",
       "      <td>0</td>\n",
       "      <td>1</td>\n",
       "      <td>0</td>\n",
       "      <td>0</td>\n",
       "      <td>0</td>\n",
       "      <td>1</td>\n",
       "      <td>0</td>\n",
       "    </tr>\n",
       "    <tr>\n",
       "      <th>1</th>\n",
       "      <td>1000002</td>\n",
       "      <td>0</td>\n",
       "      <td>1</td>\n",
       "      <td>0</td>\n",
       "      <td>0</td>\n",
       "      <td>0</td>\n",
       "      <td>0</td>\n",
       "      <td>0</td>\n",
       "      <td>0</td>\n",
       "      <td>0</td>\n",
       "      <td>...</td>\n",
       "      <td>0</td>\n",
       "      <td>0</td>\n",
       "      <td>0</td>\n",
       "      <td>0</td>\n",
       "      <td>0</td>\n",
       "      <td>0</td>\n",
       "      <td>0</td>\n",
       "      <td>0</td>\n",
       "      <td>1</td>\n",
       "      <td>0</td>\n",
       "    </tr>\n",
       "    <tr>\n",
       "      <th>2</th>\n",
       "      <td>1000004</td>\n",
       "      <td>0</td>\n",
       "      <td>0</td>\n",
       "      <td>0</td>\n",
       "      <td>0</td>\n",
       "      <td>1</td>\n",
       "      <td>1</td>\n",
       "      <td>1</td>\n",
       "      <td>0</td>\n",
       "      <td>0</td>\n",
       "      <td>...</td>\n",
       "      <td>1</td>\n",
       "      <td>0</td>\n",
       "      <td>0</td>\n",
       "      <td>0</td>\n",
       "      <td>1</td>\n",
       "      <td>0</td>\n",
       "      <td>1</td>\n",
       "      <td>1</td>\n",
       "      <td>1</td>\n",
       "      <td>0</td>\n",
       "    </tr>\n",
       "    <tr>\n",
       "      <th>3</th>\n",
       "      <td>1000005</td>\n",
       "      <td>0</td>\n",
       "      <td>1</td>\n",
       "      <td>0</td>\n",
       "      <td>0</td>\n",
       "      <td>1</td>\n",
       "      <td>1</td>\n",
       "      <td>1</td>\n",
       "      <td>0</td>\n",
       "      <td>0</td>\n",
       "      <td>...</td>\n",
       "      <td>0</td>\n",
       "      <td>0</td>\n",
       "      <td>0</td>\n",
       "      <td>0</td>\n",
       "      <td>1</td>\n",
       "      <td>1</td>\n",
       "      <td>0</td>\n",
       "      <td>0</td>\n",
       "      <td>1</td>\n",
       "      <td>0</td>\n",
       "    </tr>\n",
       "    <tr>\n",
       "      <th>4</th>\n",
       "      <td>1000006</td>\n",
       "      <td>0</td>\n",
       "      <td>0</td>\n",
       "      <td>0</td>\n",
       "      <td>0</td>\n",
       "      <td>0</td>\n",
       "      <td>0</td>\n",
       "      <td>0</td>\n",
       "      <td>0</td>\n",
       "      <td>0</td>\n",
       "      <td>...</td>\n",
       "      <td>0</td>\n",
       "      <td>0</td>\n",
       "      <td>0</td>\n",
       "      <td>0</td>\n",
       "      <td>0</td>\n",
       "      <td>0</td>\n",
       "      <td>0</td>\n",
       "      <td>0</td>\n",
       "      <td>1</td>\n",
       "      <td>0</td>\n",
       "    </tr>\n",
       "  </tbody>\n",
       "</table>\n",
       "<p>5 rows × 26 columns</p>\n",
       "</div>"
      ],
      "text/plain": [
       "   id_station  Aire de camping-cars  Automate CB  Baie de service auto  Bar  \\\n",
       "0     1000001                     0            1                     0    0   \n",
       "1     1000002                     0            1                     0    0   \n",
       "2     1000004                     0            0                     0    0   \n",
       "3     1000005                     0            1                     0    0   \n",
       "4     1000006                     0            0                     0    0   \n",
       "\n",
       "   Boutique alimentaire  Boutique non alimentaire  \\\n",
       "0                     0                         0   \n",
       "1                     0                         0   \n",
       "2                     1                         1   \n",
       "3                     1                         1   \n",
       "4                     0                         0   \n",
       "\n",
       "   Carburant qualité supérieure  Douches  Espace bébé / change  \\\n",
       "0                             0        0                     0   \n",
       "1                             0        0                     0   \n",
       "2                             1        0                     0   \n",
       "3                             1        0                     0   \n",
       "4                             0        0                     0   \n",
       "\n",
       "             ...             Relais colis  Restauration sur place  \\\n",
       "0            ...                        0                       0   \n",
       "1            ...                        0                       0   \n",
       "2            ...                        1                       0   \n",
       "3            ...                        0                       0   \n",
       "4            ...                        0                       0   \n",
       "\n",
       "   Restauration à emporter  Rien  Station de gonflage  Station de lavage  \\\n",
       "0                        0     0                    1                  0   \n",
       "1                        0     0                    0                  0   \n",
       "2                        0     0                    1                  0   \n",
       "3                        0     0                    1                  1   \n",
       "4                        0     0                    0                  0   \n",
       "\n",
       "   Toilettes publiques  Vente de fioul domestique  Vente de gaz domestique  \\\n",
       "0                    0                          0                        1   \n",
       "1                    0                          0                        1   \n",
       "2                    1                          1                        1   \n",
       "3                    0                          0                        1   \n",
       "4                    0                          0                        1   \n",
       "\n",
       "   Vente de pétrole lampant  \n",
       "0                         0  \n",
       "1                         0  \n",
       "2                         0  \n",
       "3                         0  \n",
       "4                         0  \n",
       "\n",
       "[5 rows x 26 columns]"
      ]
     },
     "execution_count": 49,
     "metadata": {},
     "output_type": "execute_result"
    }
   ],
   "source": [
    "matrice_services_df.head()"
   ]
  },
  {
   "cell_type": "code",
   "execution_count": 50,
   "metadata": {
    "collapsed": true,
    "scrolled": true
   },
   "outputs": [],
   "source": [
    "#merge le table avec indice prix avec celle qui a la matrice des services\n",
    "model_services_df = model_df.merge(matrice_services_df,how='inner', on=['id_station'])"
   ]
  },
  {
   "cell_type": "code",
   "execution_count": null,
   "metadata": {
    "collapsed": true
   },
   "outputs": [],
   "source": [
    "#model_df.merge(matrice_services_df,how='outer', on=['id_station'])"
   ]
  },
  {
   "cell_type": "markdown",
   "metadata": {},
   "source": [
    "### Modelisation (regression linéaire)"
   ]
  },
  {
   "cell_type": "code",
   "execution_count": 51,
   "metadata": {
    "collapsed": true
   },
   "outputs": [],
   "source": [
    "lr = LinearRegression()"
   ]
  },
  {
   "cell_type": "code",
   "execution_count": 57,
   "metadata": {},
   "outputs": [
    {
     "data": {
      "text/plain": [
       "LinearRegression(copy_X=True, fit_intercept=True, n_jobs=1, normalize=False)"
      ]
     },
     "execution_count": 57,
     "metadata": {},
     "output_type": "execute_result"
    }
   ],
   "source": [
    "#fit du modele avec les variables X pour entrainer et le y c'est l'indice des prix, ce qu'on cherche à modeliser\n",
    "lr.fit(X=model_services_df[list(set(matrice_services_df.columns)-{'id_station'})],\n",
    "       y=model_services_df.indice)"
   ]
  },
  {
   "cell_type": "code",
   "execution_count": 58,
   "metadata": {},
   "outputs": [
    {
     "data": {
      "text/plain": [
       "array([-0.00761309,  0.01834778,  0.00243954, -0.00748809, -0.00047572,\n",
       "       -0.0002079 , -0.00135688, -0.01879372, -0.0079994 , -0.0130757 ,\n",
       "       -0.00375147, -0.01496684, -0.00086467, -0.00807226,  0.00500321,\n",
       "        0.00945038,  0.01838106,  0.00700189, -0.01345772,  0.04518087,\n",
       "       -0.00731001, -0.00360002,  0.00127529,  0.01417165,  0.00573528])"
      ]
     },
     "execution_count": 58,
     "metadata": {},
     "output_type": "execute_result"
    }
   ],
   "source": [
    "lr.coef_"
   ]
  },
  {
   "cell_type": "code",
   "execution_count": 66,
   "metadata": {
    "collapsed": true,
    "scrolled": true
   },
   "outputs": [],
   "source": [
    "#zip associe deux listes. \n",
    "resultats = pd.DataFrame(\n",
    "    [(f,c) for f, c in zip(list(set(matrice_services_df.columns)-{'id_station'}),lr.coef_)],\n",
    "    columns=['Service','Coefficient']).sort_values('Coefficient', ascending = False)\n",
    "                         "
   ]
  },
  {
   "cell_type": "code",
   "execution_count": 67,
   "metadata": {
    "scrolled": true
   },
   "outputs": [
    {
     "data": {
      "text/html": [
       "<div>\n",
       "<style>\n",
       "    .dataframe thead tr:only-child th {\n",
       "        text-align: right;\n",
       "    }\n",
       "\n",
       "    .dataframe thead th {\n",
       "        text-align: left;\n",
       "    }\n",
       "\n",
       "    .dataframe tbody tr th {\n",
       "        vertical-align: top;\n",
       "    }\n",
       "</style>\n",
       "<table border=\"1\" class=\"dataframe\">\n",
       "  <thead>\n",
       "    <tr style=\"text-align: right;\">\n",
       "      <th></th>\n",
       "      <th>Service</th>\n",
       "      <th>Coefficient</th>\n",
       "    </tr>\n",
       "  </thead>\n",
       "  <tbody>\n",
       "    <tr>\n",
       "      <th>19</th>\n",
       "      <td>Douches</td>\n",
       "      <td>0.045181</td>\n",
       "    </tr>\n",
       "    <tr>\n",
       "      <th>16</th>\n",
       "      <td>Toilettes publiques</td>\n",
       "      <td>0.018381</td>\n",
       "    </tr>\n",
       "    <tr>\n",
       "      <th>1</th>\n",
       "      <td>Baie de service auto</td>\n",
       "      <td>0.018348</td>\n",
       "    </tr>\n",
       "    <tr>\n",
       "      <th>23</th>\n",
       "      <td>Carburant qualité supérieure</td>\n",
       "      <td>0.014172</td>\n",
       "    </tr>\n",
       "    <tr>\n",
       "      <th>15</th>\n",
       "      <td>Station de gonflage</td>\n",
       "      <td>0.009450</td>\n",
       "    </tr>\n",
       "    <tr>\n",
       "      <th>17</th>\n",
       "      <td>Espace bébé / change</td>\n",
       "      <td>0.007002</td>\n",
       "    </tr>\n",
       "    <tr>\n",
       "      <th>24</th>\n",
       "      <td>Boutique non alimentaire</td>\n",
       "      <td>0.005735</td>\n",
       "    </tr>\n",
       "    <tr>\n",
       "      <th>14</th>\n",
       "      <td>Vente de fioul domestique</td>\n",
       "      <td>0.005003</td>\n",
       "    </tr>\n",
       "    <tr>\n",
       "      <th>2</th>\n",
       "      <td>Relais colis</td>\n",
       "      <td>0.002440</td>\n",
       "    </tr>\n",
       "    <tr>\n",
       "      <th>22</th>\n",
       "      <td>Lavage haute-pression</td>\n",
       "      <td>0.001275</td>\n",
       "    </tr>\n",
       "    <tr>\n",
       "      <th>5</th>\n",
       "      <td>Aire de camping-cars</td>\n",
       "      <td>-0.000208</td>\n",
       "    </tr>\n",
       "    <tr>\n",
       "      <th>4</th>\n",
       "      <td>Piste poids lourds</td>\n",
       "      <td>-0.000476</td>\n",
       "    </tr>\n",
       "    <tr>\n",
       "      <th>12</th>\n",
       "      <td>Station de lavage</td>\n",
       "      <td>-0.000865</td>\n",
       "    </tr>\n",
       "    <tr>\n",
       "      <th>6</th>\n",
       "      <td>Boutique alimentaire</td>\n",
       "      <td>-0.001357</td>\n",
       "    </tr>\n",
       "    <tr>\n",
       "      <th>21</th>\n",
       "      <td>Restauration à emporter</td>\n",
       "      <td>-0.003600</td>\n",
       "    </tr>\n",
       "    <tr>\n",
       "      <th>10</th>\n",
       "      <td>Lavage multi-programmes</td>\n",
       "      <td>-0.003751</td>\n",
       "    </tr>\n",
       "    <tr>\n",
       "      <th>20</th>\n",
       "      <td>GPL</td>\n",
       "      <td>-0.007310</td>\n",
       "    </tr>\n",
       "    <tr>\n",
       "      <th>3</th>\n",
       "      <td>Vente de pétrole lampant</td>\n",
       "      <td>-0.007488</td>\n",
       "    </tr>\n",
       "    <tr>\n",
       "      <th>0</th>\n",
       "      <td>Location de véhicule</td>\n",
       "      <td>-0.007613</td>\n",
       "    </tr>\n",
       "    <tr>\n",
       "      <th>8</th>\n",
       "      <td>Laverie</td>\n",
       "      <td>-0.007999</td>\n",
       "    </tr>\n",
       "    <tr>\n",
       "      <th>13</th>\n",
       "      <td>Bar</td>\n",
       "      <td>-0.008072</td>\n",
       "    </tr>\n",
       "    <tr>\n",
       "      <th>9</th>\n",
       "      <td>Restauration sur place</td>\n",
       "      <td>-0.013076</td>\n",
       "    </tr>\n",
       "    <tr>\n",
       "      <th>18</th>\n",
       "      <td>Rien</td>\n",
       "      <td>-0.013458</td>\n",
       "    </tr>\n",
       "    <tr>\n",
       "      <th>11</th>\n",
       "      <td>Vente de gaz domestique</td>\n",
       "      <td>-0.014967</td>\n",
       "    </tr>\n",
       "    <tr>\n",
       "      <th>7</th>\n",
       "      <td>Automate CB</td>\n",
       "      <td>-0.018794</td>\n",
       "    </tr>\n",
       "  </tbody>\n",
       "</table>\n",
       "</div>"
      ],
      "text/plain": [
       "                         Service  Coefficient\n",
       "19                       Douches     0.045181\n",
       "16           Toilettes publiques     0.018381\n",
       "1           Baie de service auto     0.018348\n",
       "23  Carburant qualité supérieure     0.014172\n",
       "15           Station de gonflage     0.009450\n",
       "17          Espace bébé / change     0.007002\n",
       "24      Boutique non alimentaire     0.005735\n",
       "14     Vente de fioul domestique     0.005003\n",
       "2                   Relais colis     0.002440\n",
       "22         Lavage haute-pression     0.001275\n",
       "5           Aire de camping-cars    -0.000208\n",
       "4             Piste poids lourds    -0.000476\n",
       "12             Station de lavage    -0.000865\n",
       "6           Boutique alimentaire    -0.001357\n",
       "21       Restauration à emporter    -0.003600\n",
       "10       Lavage multi-programmes    -0.003751\n",
       "20                           GPL    -0.007310\n",
       "3       Vente de pétrole lampant    -0.007488\n",
       "0           Location de véhicule    -0.007613\n",
       "8                        Laverie    -0.007999\n",
       "13                           Bar    -0.008072\n",
       "9         Restauration sur place    -0.013076\n",
       "18                          Rien    -0.013458\n",
       "11       Vente de gaz domestique    -0.014967\n",
       "7                    Automate CB    -0.018794"
      ]
     },
     "execution_count": 67,
     "metadata": {},
     "output_type": "execute_result"
    }
   ],
   "source": [
    "resultats"
   ]
  },
  {
   "cell_type": "raw",
   "metadata": {},
   "source": [
    "graph = (pd.DataFrame(resultats, columns=['Service','Coefficient'])\n",
    " .sort_values('Coefficient')\n",
    " .plot(kind='barh'))\n",
    "graph.set_yticklabels"
   ]
  },
  {
   "cell_type": "code",
   "execution_count": 70,
   "metadata": {},
   "outputs": [
    {
     "data": {
      "text/plain": [
       "<matplotlib.axes._subplots.AxesSubplot at 0x281095bbd68>"
      ]
     },
     "execution_count": 70,
     "metadata": {},
     "output_type": "execute_result"
    },
    {
     "data": {
      "image/png": "[encoded data removed]",
      "text/plain": [
       "<matplotlib.figure.Figure at 0x281092f3588>"
      ]
     },
     "metadata": {},
     "output_type": "display_data"
    }
   ],
   "source": [
    "resultats.set_index('Service').plot(kind='barh')"
   ]
  },
  {
   "cell_type": "markdown",
   "metadata": {},
   "source": [
    "### Modelisation (random forest)"
   ]
  },
  {
   "cell_type": "code",
   "execution_count": 73,
   "metadata": {
    "collapsed": true
   },
   "outputs": [],
   "source": [
    "rf = RandomForestRegressor()"
   ]
  },
  {
   "cell_type": "code",
   "execution_count": 74,
   "metadata": {},
   "outputs": [
    {
     "data": {
      "text/plain": [
       "RandomForestRegressor(bootstrap=True, criterion='mse', max_depth=None,\n",
       "           max_features='auto', max_leaf_nodes=None,\n",
       "           min_impurity_split=1e-07, min_samples_leaf=1,\n",
       "           min_samples_split=2, min_weight_fraction_leaf=0.0,\n",
       "           n_estimators=10, n_jobs=1, oob_score=False, random_state=None,\n",
       "           verbose=0, warm_start=False)"
      ]
     },
     "execution_count": 74,
     "metadata": {},
     "output_type": "execute_result"
    }
   ],
   "source": [
    "rf.fit(X=model_services_df[list(set(matrice_services_df.columns)-{'id_station'})],\n",
    "       y=model_services_df.indice)"
   ]
  },
  {
   "cell_type": "code",
   "execution_count": 77,
   "metadata": {},
   "outputs": [
    {
     "data": {
      "text/plain": [
       "array([  2.20626112e-02,   6.57683516e-02,   1.38142421e-02,\n",
       "         1.16448025e-02,   2.63038265e-02,   9.19054534e-03,\n",
       "         1.78692451e-02,   1.24721548e-01,   7.20317448e-03,\n",
       "         2.20324790e-02,   2.16200515e-02,   6.46845190e-02,\n",
       "         2.19672681e-02,   1.44729659e-02,   2.11544883e-02,\n",
       "         2.14315050e-02,   3.26512050e-02,   1.92265526e-02,\n",
       "         5.84743584e-05,   2.02232556e-01,   2.71691404e-02,\n",
       "         2.46480348e-02,   2.24035707e-02,   1.59698453e-01,\n",
       "         2.59703899e-02])"
      ]
     },
     "execution_count": 77,
     "metadata": {},
     "output_type": "execute_result"
    }
   ],
   "source": [
    "rf.feature_importances_"
   ]
  },
  {
   "cell_type": "code",
   "execution_count": 82,
   "metadata": {},
   "outputs": [],
   "source": [
    "resultats_rf = pd.DataFrame(\n",
    "    [(f,c) for f, c in zip(list(set(matrice_services_df.columns)-{'id_station'}),rf.feature_importances_)],\n",
    "    columns=['Service','Coefficient']).sort_values('Coefficient', ascending = False)"
   ]
  },
  {
   "cell_type": "code",
   "execution_count": 83,
   "metadata": {},
   "outputs": [
    {
     "data": {
      "text/plain": [
       "<matplotlib.axes._subplots.AxesSubplot at 0x28109d44358>"
      ]
     },
     "execution_count": 83,
     "metadata": {},
     "output_type": "execute_result"
    },
    {
     "data": {
      "image/png": "[encoded data removed]",
      "text/plain": [
       "<matplotlib.figure.Figure at 0x28109d2cfd0>"
      ]
     },
     "metadata": {},
     "output_type": "display_data"
    }
   ],
   "source": [
    "resultats_rf.set_index('Service').plot(kind='barh')"
   ]
  },
  {
   "cell_type": "code",
   "execution_count": null,
   "metadata": {
    "collapsed": true
   },
   "outputs": [],
   "source": []
  }
 ],
 "metadata": {
  "kernelspec": {
   "display_name": "Python 3",
   "language": "python",
   "name": "python3"
  },
  "language_info": {
   "codemirror_mode": {
    "name": "ipython",
    "version": 3
   },
   "file_extension": ".py",
   "mimetype": "text/x-python",
   "name": "python",
   "nbconvert_exporter": "python",
   "pygments_lexer": "ipython3",
   "version": "3.6.1"
  }
 },
 "nbformat": 4,
 "nbformat_minor": 2
}
